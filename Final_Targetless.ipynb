{
  "nbformat": 4,
  "nbformat_minor": 0,
  "metadata": {
    "colab": {
      "name": "Final_Targetless.ipynb",
      "provenance": [],
      "include_colab_link": true
    },
    "kernelspec": {
      "display_name": "Python 3",
      "name": "python3"
    },
    "language_info": {
      "name": "python"
    }
  },
  "cells": [
    {
      "cell_type": "markdown",
      "metadata": {
        "id": "view-in-github",
        "colab_type": "text"
      },
      "source": [
        "<a href=\"https://colab.research.google.com/github/RiniChandra7/TargetlessDrugDiscoveryPipeline/blob/main/Final_Targetless.ipynb\" target=\"_parent\"><img src=\"https://colab.research.google.com/assets/colab-badge.svg\" alt=\"Open In Colab\"/></a>"
      ]
    },
    {
      "cell_type": "markdown",
      "metadata": {
        "id": "N9vzR0ABtBB9"
      },
      "source": [
        "# Pre-requisites\n",
        "Please ensure that the necessary uploads are available, and their correct paths are present in Code blocks 18, 20, 21, 22 & 23.\n",
        "Also ensure that the input SMILES list is either uploaded in the session storage or present in your Google drive (mounting will be required in this case - see Section 2), and the correct path for it is updated in Code block 6.\n",
        "\n",
        "The necessary uploads are available here - https://drive.google.com/drive/folders/186OZQBjX1mJEO5blm2xYKvaHQ_o2e81e?usp=sharing"
      ]
    },
    {
      "cell_type": "markdown",
      "metadata": {
        "id": "xSSeisuwprFv"
      },
      "source": [
        "# Section 1 - Installation of Dependencies\n",
        "The following 4 code blocks are responsible for installing the dependencies required for running this code in the Google Colab environment.\n",
        "\n",
        "The first 2 code blocks are concerned with creation of a conda environment within Colab followed by importing the necessary dependencies from RDKit, which is necessary to avoid issues that have been faced when trying to make RDKit work in Colab. The import has been done beforehand because it has been observed that RDKit crashes on direct imports sometimes, in Google Colab. Special thanks to the authors of the resources specified in the comments in code block 1 & 2, due to which this issue could be alleviated.\n",
        "\n",
        "Code block 3 is concerned with the installation of the nightly build of DeepChem, which ensures that the freshest updates are picked.\n",
        "\n",
        "Code block 4 installs RateLimit, which is useful in controlling API calls to REST APIs that have been used in this project.\n",
        "\n"
      ]
    },
    {
      "cell_type": "code",
      "metadata": {
        "colab": {
          "base_uri": "https://localhost:8080/"
        },
        "id": "C9F56zgFdyUD",
        "outputId": "873d6d57-4a78-48c6-ddcd-66f6eefe5af4"
      },
      "source": [
        "!pip install rdkit-pypi"
      ],
      "execution_count": 31,
      "outputs": [
        {
          "output_type": "stream",
          "name": "stdout",
          "text": [
            "Requirement already satisfied: rdkit-pypi in /usr/local/lib/python3.7/dist-packages (2021.9.5.1)\n",
            "Requirement already satisfied: numpy>=1.19 in /usr/local/lib/python3.7/dist-packages (from rdkit-pypi) (1.21.5)\n",
            "Requirement already satisfied: Pillow in /usr/local/lib/python3.7/dist-packages (from rdkit-pypi) (7.1.2)\n"
          ]
        }
      ]
    },
    {
      "cell_type": "code",
      "metadata": {
        "id": "KYipHBvZVWBl"
      },
      "source": [
        "#Code block 2 - Inspired by RDKit troubleshooting tips suggested here (https://stackoverflow.com/questions/65487584/how-to-import-rdkit-in-google-colab-these-days)\n",
        "#If an ImportError happens and you see the message regarding the runtime being stopped, please run notebook once again. More details about the issue available in the Stack Overflow link specified above.\n",
        "import sys\n",
        "sys.path.append('/usr/local/lib/python3.7/site-packages/')\n",
        "\n",
        "try:\n",
        "  from rdkit import Chem\n",
        "  from rdkit.Chem import Descriptors, rdMolDescriptors, rdchem, Crippen, QED, rdmolops\n",
        "  from rdkit.Chem.rdchem import Mol\n",
        "  from rdkit.Chem import Lipinski, Draw\n",
        "except ImportError:\n",
        "  print('Stopping RUNTIME. Colaboratory will restart automatically. Please run again.')\n",
        "  exit()"
      ],
      "execution_count": 32,
      "outputs": []
    },
    {
      "cell_type": "code",
      "metadata": {
        "colab": {
          "base_uri": "https://localhost:8080/"
        },
        "id": "JH7Yr6bcfY8l",
        "outputId": "b54ecb0c-8930-4937-c9f3-4d41a6ffd656"
      },
      "source": [
        "#Code block 3 - Installation of DeepChem nightly build\n",
        "!pip install --pre deepchem"
      ],
      "execution_count": 33,
      "outputs": [
        {
          "output_type": "stream",
          "name": "stdout",
          "text": [
            "Requirement already satisfied: deepchem in /usr/local/lib/python3.7/dist-packages (2.6.1)\n",
            "Requirement already satisfied: numpy>=1.21 in /usr/local/lib/python3.7/dist-packages (from deepchem) (1.21.5)\n",
            "Requirement already satisfied: joblib in /usr/local/lib/python3.7/dist-packages (from deepchem) (1.1.0)\n",
            "Requirement already satisfied: scipy in /usr/local/lib/python3.7/dist-packages (from deepchem) (1.4.1)\n",
            "Requirement already satisfied: scikit-learn in /usr/local/lib/python3.7/dist-packages (from deepchem) (1.0.2)\n",
            "Requirement already satisfied: pandas in /usr/local/lib/python3.7/dist-packages (from deepchem) (1.3.5)\n",
            "Requirement already satisfied: rdkit-pypi in /usr/local/lib/python3.7/dist-packages (from deepchem) (2021.9.5.1)\n",
            "Requirement already satisfied: pytz>=2017.3 in /usr/local/lib/python3.7/dist-packages (from pandas->deepchem) (2018.9)\n",
            "Requirement already satisfied: python-dateutil>=2.7.3 in /usr/local/lib/python3.7/dist-packages (from pandas->deepchem) (2.8.2)\n",
            "Requirement already satisfied: six>=1.5 in /usr/local/lib/python3.7/dist-packages (from python-dateutil>=2.7.3->pandas->deepchem) (1.15.0)\n",
            "Requirement already satisfied: Pillow in /usr/local/lib/python3.7/dist-packages (from rdkit-pypi->deepchem) (7.1.2)\n",
            "Requirement already satisfied: threadpoolctl>=2.0.0 in /usr/local/lib/python3.7/dist-packages (from scikit-learn->deepchem) (3.1.0)\n"
          ]
        }
      ]
    },
    {
      "cell_type": "code",
      "metadata": {
        "colab": {
          "base_uri": "https://localhost:8080/"
        },
        "id": "bKcDmvnqeKuM",
        "outputId": "49556a90-eb2e-469a-fc50-59fefed83493"
      },
      "source": [
        "#Code block 4 - Installation of RateLimit\n",
        "!pip install ratelimit"
      ],
      "execution_count": 34,
      "outputs": [
        {
          "output_type": "stream",
          "name": "stdout",
          "text": [
            "Requirement already satisfied: ratelimit in /usr/local/lib/python3.7/dist-packages (2.2.1)\n"
          ]
        }
      ]
    },
    {
      "cell_type": "markdown",
      "metadata": {
        "id": "HmlLS4Ilr_90"
      },
      "source": [
        "#Section 2 - Mount your drive\n",
        "This is necessary only when the necessary uploads are available in Google drive, and those files need to be retrieved from there. It may be skipped if the files are available in session storage. The necessary uploads are available here - https://drive.google.com/drive/u/0/folders/1EJ9gKOwCO0Q7hUA3Go8DfG9-nG_VbkLg\n"
      ]
    },
    {
      "cell_type": "code",
      "metadata": {
        "colab": {
          "base_uri": "https://localhost:8080/"
        },
        "id": "7SL_gqEwff2n",
        "outputId": "82510ad1-a793-4c81-bc7e-ffdc15223d56"
      },
      "source": [
        "#Code block 5 - Execute only if the necessary uploads are present in Google drive \n",
        "from google.colab import drive\n",
        "drive.mount('/content/drive')"
      ],
      "execution_count": 35,
      "outputs": [
        {
          "output_type": "stream",
          "name": "stdout",
          "text": [
            "Drive already mounted at /content/drive; to attempt to forcibly remount, call drive.mount(\"/content/drive\", force_remount=True).\n"
          ]
        }
      ]
    },
    {
      "cell_type": "markdown",
      "metadata": {
        "id": "6cZxpkctuCMq"
      },
      "source": [
        "# Section 3 - Specify your inputs\n",
        "Fill up the expectations you have with the resultant candidates in this form below. If you're not clear with regarding any of these requirements, please use the defaults, as follows:\n",
        "\n",
        "\n",
        "*   Preferred_filter = NA\n",
        "*   Min_QED = 0\n",
        "*   Min_Molecular_Weight = 0\n",
        "*   Max_Molecular_Weight as per your preference (if the value is too large, then it would be reset to the maximum that can be handled by Python automatically).\n",
        "*   Min_Heavy_Atoms = 0\n",
        "*   Max_Heavy_Atoms as per your preference (if the value is too large, then it would be reset to the maximum that can be handled by Python automatically).\n",
        "*   Solubility = NA\n",
        "*   Reference_Molecule = \"\"\n",
        "*   Similarity_type = \"Tanimoto\" (NA unavailable because you have to pick at least one type of similarity if a reference molecule is present)\n",
        "\n"
      ]
    },
    {
      "cell_type": "code",
      "metadata": {
        "id": "nDxClSD9feoh"
      },
      "source": [
        "#@title Input Properties\n",
        "Preferred_filter = \"Lipinski's Rule of 5\" #@param [\"NA\",\"Lipinski's Rule of 5\", \"Drug-Likeness (QED)\", \"Ghose\", \"Veber\", \"REOS\", \"Rule of 3\"]\n",
        "Min_QED = 0.5 #@param {type:\"slider\", min:0, max:1, step:0.1}\n",
        "Min_Molecular_Weight = 0 #@param {type:\"number\"}\n",
        "Max_Molecular_Weight = 500 #@param {type:\"number\"}\n",
        "Min_Heavy_Atoms = 0 #@param {type: \"number\"}\n",
        "Max_Heavy_Atoms = 500 #@param {type: \"number\"}\n",
        "#Max_SAS = 7 #@param {type:\"slider\", min:0, max:10, step:1}\n",
        "Solubility = \"Lipophilic\" #@param [\"NA\", \"Hydrophilic\", \"Lipophilic\"]\n",
        "Reference_Molecule = \"C\" #@param {type:\"string\"}\n",
        "Similarity_type = \"Tanimoto\" #@param [\"Tanimoto\", \"Dice\", \"Cosine\", \"Sokal\", \"McConnaughey\"]"
      ],
      "execution_count": 36,
      "outputs": []
    },
    {
      "cell_type": "markdown",
      "metadata": {
        "id": "U-nnT5qUw2qX"
      },
      "source": [
        "# Section 4 - Initial Processing of Candidate pool\n",
        "The code block 6 is where your input list gets its initial validation done, and the list of authentic compounds are forwarded to the upcoming code.\n",
        "\n",
        "Make sure to specify the correct path for the text file, with each compound SMILES on a new line, on the first non-comment line of code in this block.\n",
        "\n",
        "If you wish to use the default list of 2k+ random compounds, then that is available in the 'Necessary Uploads' folder, by the name 'Step1.txt'."
      ]
    },
    {
      "cell_type": "code",
      "metadata": {
        "colab": {
          "base_uri": "https://localhost:8080/"
        },
        "id": "79dTAfAufi_b",
        "outputId": "da218a3f-4608-403e-a430-c89e064fbdf0"
      },
      "source": [
        "#Code block 6 - Supply the candidate pool here, as a text file.\n",
        "#Specify the correct path for that file in the first code line.\n",
        "f = open('/content/drive/MyDrive/Necessary Uploads/TestSet25.txt', 'r')\n",
        "\n",
        "#This part reads all the unique lines from the input file, where each compound is on a different line\n",
        "smiles_list = []\n",
        "smiles_list = f.readlines()\n",
        "smiles_list = list(map(lambda i: i[ : -1], smiles_list)) \n",
        "smiles_list = list(set(smiles_list))\n",
        "\n",
        "#This part removes all blank compounds from the list\n",
        "for x in smiles_list:\n",
        "  if Chem.MolFromSmiles(x) is None or len(x) is 0:\n",
        "    smiles_list.remove(x)\n",
        "\n",
        "#Show how many authentic candidates are available\n",
        "print(str(len(smiles_list)) + \" candidates available.\")\n",
        "\n",
        "\n",
        "#No further processing required if there are no candidates in the pool; reset\n",
        "if (len(smiles_list) <= 0):\n",
        "  sys.exit('No candidates in the candidate pool.')"
      ],
      "execution_count": 37,
      "outputs": [
        {
          "output_type": "stream",
          "name": "stdout",
          "text": [
            "25 candidates available.\n"
          ]
        }
      ]
    },
    {
      "cell_type": "markdown",
      "metadata": {
        "id": "x-YI7Vr-x1z0"
      },
      "source": [
        "# Section 5 - Healthcare filters\n",
        "In code block 7, the healthcare filters like Lipinski's rule of 5, etc. are implemented as functions, to be called in code block 8 for whittling down the list of compounds for which property determination has to be done at later stages."
      ]
    },
    {
      "cell_type": "code",
      "metadata": {
        "id": "83r_5lQ1flT5"
      },
      "source": [
        "#Code block 7 - Definition of functions responsible for Filtration pertaining to healthcare\n",
        "#All filtration functions defined in this block\n",
        "\n",
        "#Lipinski's rule of 5\n",
        "def getRo5Props(x):\n",
        "  smile = ''.join(x)\n",
        "  if Chem.MolFromSmiles(smile) is not None and len(smile) is not 0:\n",
        "    m = Chem.MolFromSmiles(smile)\n",
        "    molecular_weight = Descriptors.MolWt(m)\n",
        "    logp = Descriptors.MolLogP(m)\n",
        "    h_bond_donor = Descriptors.NumHDonors(m)\n",
        "    h_bond_acceptors = Descriptors.NumHAcceptors(m)\n",
        "\n",
        "    if molecular_weight <= 500 and logp <= 5 and h_bond_donor <=5 and h_bond_acceptors <= 10:\n",
        "      return True\n",
        "    else:\n",
        "      return False\n",
        "\n",
        "#Drug-likeness or QED\n",
        "def getQEDProps(x):\n",
        "  smile = ''.join(x)\n",
        "  if Chem.MolFromSmiles(smile) is not None and len(smile) is not 0:\n",
        "    m = Chem.MolFromSmiles(smile)\n",
        "    molecular_weight = Descriptors.MolWt(m)\n",
        "    logp = Descriptors.MolLogP(m)\n",
        "    h_bond_donor = Descriptors.NumHDonors(m)\n",
        "    h_bond_acceptor = Descriptors.NumHAcceptors(m)\n",
        "    ring_count = Chem.rdMolDescriptors.CalcNumRings(m)\n",
        "    rotatable_bonds = Descriptors.NumRotatableBonds(m)\n",
        "\n",
        "    if molecular_weight < 400 and ring_count > 0 and rotatable_bonds < 5 and h_bond_donor <= 5 and h_bond_acceptor <= 10 and logp < 5:\n",
        "      return True\n",
        "    else:\n",
        "      return False\n",
        "\n",
        "#Ghose\n",
        "def getGhoseProps(x):\n",
        "  smile = ''.join(x)\n",
        "  if Chem.MolFromSmiles(smile) is not None and len(smile) is not 0:\n",
        "    m = Chem.MolFromSmiles(smile)\n",
        "    molecular_weight = Descriptors.MolWt(m)\n",
        "    logp = Descriptors.MolLogP(m)\n",
        "    number_of_atoms = Chem.rdchem.Mol.GetNumAtoms(m)\n",
        "    molar_refractivity = Chem.Crippen.MolMR(m)\n",
        "\n",
        "    if molecular_weight >= 160 and molecular_weight <= 480 and logp >= -0.4 and logp <= 5.6 and number_of_atoms >= 20 and number_of_atoms <= 70 and molar_refractivity >= 40 and molar_refractivity <= 130:\n",
        "      return True\n",
        "    else:\n",
        "      return False\n",
        "\n",
        "#Veber\n",
        "def getVeberProps(x):\n",
        "  smile = ''.join(x)\n",
        "  if Chem.MolFromSmiles(smile) is not None and len(smile) is not 0:\n",
        "    m = Chem.MolFromSmiles(smile)\n",
        "    rotatable_bonds = Descriptors.NumRotatableBonds(m)\n",
        "    t_surface_area = Chem.QED.properties(m).PSA\n",
        "\n",
        "    if rotatable_bonds <= 10 and t_surface_area <= 140:\n",
        "      return True\n",
        "    else:\n",
        "      return False\n",
        "\n",
        "#REOS\n",
        "def getREOSProps(x):\n",
        "  smile = ''.join(x)\n",
        "  if Chem.MolFromSmiles(smile) is not None and len(smile) is not 0:\n",
        "    m = Chem.MolFromSmiles(smile)\n",
        "    molecular_weight = Descriptors.ExactMolWt(m)\n",
        "    logp = Descriptors.MolLogP(m)\n",
        "    h_bond_donor = Descriptors.NumHDonors(m)\n",
        "    h_bond_acceptor = Descriptors.NumHAcceptors(m)\n",
        "    rotatable_bonds = Descriptors.NumRotatableBonds(m)\n",
        "    formal_charge = Chem.rdmolops.GetFormalCharge(m)\n",
        "    heavy_atoms = Chem.rdchem.Mol.GetNumHeavyAtoms(m)\n",
        "\n",
        "    if molecular_weight >= 200 and molecular_weight <= 500 and logp >= -5 and logp <= 5 and h_bond_donor >= 0 and h_bond_donor <= 5 and h_bond_acceptor >= 0 and h_bond_acceptor <= 10 and formal_charge >= -2 and formal_charge <= 2 and heavy_atoms >= 15 and heavy_atoms <= 50:\n",
        "      return True\n",
        "    else:\n",
        "      return False\n",
        "\n",
        "#Rule of 3\n",
        "def getRo3Props(x):\n",
        "  smile = ''.join(x)\n",
        "  if Chem.MolFromSmiles(smile) is not None and len(smile) is not 0:\n",
        "    m = Chem.MolFromSmiles(smile)\n",
        "    molecular_weight = Descriptors.ExactMolWt(m)\n",
        "    logp = Descriptors.MolLogP(m)\n",
        "    h_bond_donor = Descriptors.NumHDonors(m)\n",
        "    h_bond_acceptor = Descriptors.NumHAcceptors(m)\n",
        "    rotatable_bonds = Descriptors.NumRotatableBonds(m)\n",
        "\n",
        "    if molecular_weight <= 300 and logp <= 3 and h_bond_donor <= 3 and h_bond_acceptor <= 3 and rotatable_bonds <= 3:\n",
        "      return True\n",
        "    else:\n",
        "      return False"
      ],
      "execution_count": 38,
      "outputs": []
    },
    {
      "cell_type": "code",
      "metadata": {
        "colab": {
          "base_uri": "https://localhost:8080/"
        },
        "id": "iPZ3wX91foCp",
        "outputId": "868051c6-2ebb-4a1f-baf6-4fc1aa81d38d"
      },
      "source": [
        "#Code block 8 - Filtration on inputs via function calls happens here\n",
        "valid_list = []\n",
        "\n",
        "if Preferred_filter == \"Lipinski's Rule of 5\":\n",
        "  for smiles in smiles_list:\n",
        "    if getRo5Props(smiles) == True:\n",
        "      valid_list.append(smiles)\n",
        "elif Preferred_filter == \"Drug-Likeness (QED)\":\n",
        "  for smiles in smiles_list:\n",
        "    if getQEDProps(smiles) == True:\n",
        "      valid_list.append(smiles)\n",
        "elif Preferred_filter == \"Ghose\":\n",
        "  for smiles in smiles_list:\n",
        "    if getGhoseProps(smiles) == True:\n",
        "      valid_list.append(smiles)\n",
        "elif Preferred_filter == \"Veber\":\n",
        "  for smiles in smiles_list:\n",
        "    if getVeberProps(smiles) == True:\n",
        "      valid_list.append(smiles)\n",
        "elif Preferred_filter == \"REOS\":\n",
        "  for smiles in smiles_list:\n",
        "    if getREOSProps(smiles) == True:\n",
        "      valid_list.append(smiles)\n",
        "elif Preferred_filter == \"Rule of 3\":\n",
        "  for smiles in smiles_list:\n",
        "    if getRo3Props(smiles) == True:\n",
        "      valid_list.append(smiles)\n",
        "else:\n",
        "  valid_list = smiles_list\n",
        "\n",
        "print(str(len(valid_list)) + \" molecules have passed the given filter.\")\n",
        "\n",
        "#Processing stops if no candidates make it through the selected filter.\n",
        "if (len(valid_list) <= 0):\n",
        "  sys.exit('No candidates made it through the filter.')"
      ],
      "execution_count": 39,
      "outputs": [
        {
          "output_type": "stream",
          "name": "stdout",
          "text": [
            "19 molecules have passed the given filter.\n"
          ]
        }
      ]
    },
    {
      "cell_type": "code",
      "metadata": {
        "id": "dSMmMaLGfsT-"
      },
      "source": [
        "#Code block 9 - save the results to a csv for future reference, when one wants to see all the compounds that passed the filter\n",
        "#csv available in session storage\n",
        "from pandas import DataFrame\n",
        "\n",
        "df = DataFrame(valid_list, columns=['SMILES'])\n",
        "df.to_csv('Valid_step2.csv')"
      ],
      "execution_count": 40,
      "outputs": []
    },
    {
      "cell_type": "markdown",
      "metadata": {
        "id": "yN7Njckkz7hC"
      },
      "source": [
        "# Section 6 - Determination of Computative Properties\n",
        "Code blocks 10-14 are where the functions for computing properties based on simple computational algorithms are implemented."
      ]
    },
    {
      "cell_type": "code",
      "metadata": {
        "id": "D9im8LGyfuaZ"
      },
      "source": [
        "#Code block 10 - Functions to determine properties via method 1 i.e. computation\n",
        "def addQED(x):\n",
        "  smile = ''.join(x)\n",
        "  if Chem.MolFromSmiles(smile) is not None and len(smile) is not 0:\n",
        "    return Chem.QED.qed(Chem.MolFromSmiles(smile))\n",
        "\n",
        "def addMolecularWeight(x):\n",
        "  smile = ''.join(x)\n",
        "  if Chem.MolFromSmiles(smile) is not None and len(smile) is not 0:\n",
        "    return Chem.Descriptors.MolWt(Chem.MolFromSmiles(smile))\n",
        "\n",
        "def getCharge(x):\n",
        "  smiles = ''.join(x)\n",
        "  if Chem.MolFromSmiles(smiles) is not None and len(smiles) is not 0:\n",
        "    return Chem.rdmolops.GetFormalCharge(Chem.MolFromSmiles(smiles))\n",
        "\n",
        "def maxPartCharge(x):\n",
        "  smiles = ''.join(x)\n",
        "  if Chem.MolFromSmiles(smiles) is not None and len(smiles) is not 0:\n",
        "    return Chem.Descriptors.MaxPartialCharge(Chem.MolFromSmiles(smiles))\n",
        "\n",
        "def getSize(x):\n",
        "  smiles = ''.join(x)\n",
        "  if Chem.MolFromSmiles(smiles) is not None and len(smiles) is not 0:\n",
        "    return max(map(max, (Chem.rdmolops.GetDistanceMatrix(Chem.MolFromSmiles(smiles)))))\n",
        "\n",
        "def maxValenceElectrons(x):\n",
        "  smiles = ''.join(x)\n",
        "  if Chem.MolFromSmiles(smiles) is not None and len(smiles) is not 0:\n",
        "    return Chem.Descriptors.NumValenceElectrons(Chem.MolFromSmiles(smiles))\n",
        "\n",
        "def atoms(x):\n",
        "  smiles = ''.join(x)\n",
        "  if Chem.MolFromSmiles(smiles) is not None and len(smiles) is not 0:\n",
        "    return Chem.Lipinski.HeavyAtomCount(Chem.MolFromSmiles(smiles))\n",
        "\n",
        "def rings(x):\n",
        "  smiles = ''.join(x)\n",
        "  if Chem.MolFromSmiles(smiles) is not None and len(smiles) is not 0:\n",
        "    return Chem.Lipinski.RingCount(Chem.MolFromSmiles(smiles))\n",
        "\n",
        "def rotableBonds(x):\n",
        "  smiles = ''.join(x)\n",
        "  if Chem.MolFromSmiles(smiles) is not None and len(smiles) is not 0:\n",
        "    return Chem.Lipinski.NumRotatableBonds(Chem.MolFromSmiles(smiles))\n",
        "\n",
        "def tpsa(x):\n",
        "  smiles = ''.join(x)\n",
        "  if Chem.MolFromSmiles(smiles) is not None and len(smiles) is not 0:\n",
        "    return Chem.Descriptors.TPSA(Chem.MolFromSmiles(smiles))\n",
        "\n",
        "def hDonors(x):\n",
        "  smiles = ''.join(x)\n",
        "  if Chem.MolFromSmiles(smiles) is not None and len(smiles) is not 0:\n",
        "    return Chem.Lipinski.NumHDonors(Chem.MolFromSmiles(smiles))\n",
        "\n",
        "def hAccept(x):\n",
        "  smiles = ''.join(x)\n",
        "  if Chem.MolFromSmiles(smiles) is not None and len(smiles) is not 0:\n",
        "    return Chem.Lipinski.NumHAcceptors(Chem.MolFromSmiles(smiles))\n",
        "\n",
        "def getNumAtoms(x):\n",
        "  smiles = ''.join(x)\n",
        "  if Chem.MolFromSmiles(smiles) is not None and len(smiles) is not 0:\n",
        "    return rdchem.Mol.GetNumAtoms(Chem.MolFromSmiles(smiles))\n",
        "\n",
        "def getMR(x):\n",
        "  smiles = ''.join(x)\n",
        "  if Chem.MolFromSmiles(smiles) is not None and len(smiles) is not 0:\n",
        "    return Crippen.MolMR(Chem.MolFromSmiles(smiles))"
      ],
      "execution_count": 41,
      "outputs": []
    },
    {
      "cell_type": "code",
      "metadata": {
        "id": "THm3MYVefzcw"
      },
      "source": [
        "#Code block 12 - Similarity tracker\n",
        "from rdkit import DataStructs\n",
        "from rdkit.Chem import MACCSkeys\n",
        "\n",
        "ref = ''.join(Reference_Molecule)\n",
        "if Chem.MolFromSmiles(ref) is not None and len(ref) is not 0:\n",
        "  ref_fp = MACCSkeys.GenMACCSKeys(Chem.MolFromSmiles(ref))\n",
        "\n",
        "def similarity(x):\n",
        "  inp = ''.join(x)\n",
        "  if Chem.MolFromSmiles(inp) is not None and len(inp) is not 0:\n",
        "    if Similarity_type == \"Dice\":\n",
        "      return round(DataStructs.DiceSimilarity(ref_fp, MACCSkeys.GenMACCSKeys(Chem.MolFromSmiles(inp))), 3)\n",
        "    elif Similarity_type == \"Cosine\":\n",
        "      return round(DataStructs.CosineSimilarity(ref_fp, MACCSkeys.GenMACCSKeys(Chem.MolFromSmiles(inp))), 3)\n",
        "    elif Similarity_type == \"Sokal\":\n",
        "      return round(DataStructs.SokalSimilarity(ref_fp, MACCSkeys.GenMACCSKeys(Chem.MolFromSmiles(inp))), 3)\n",
        "    elif Similarity_type == \"McConnaughey\":\n",
        "      return round(DataStructs.McConnaugheySimilarity(ref_fp, MACCSkeys.GenMACCSKeys(Chem.MolFromSmiles(inp))), 3)\n",
        "    else:\n",
        "      return round(DataStructs.TanimotoSimilarity(ref_fp, MACCSkeys.GenMACCSKeys(Chem.MolFromSmiles(inp))), 3)"
      ],
      "execution_count": 42,
      "outputs": []
    },
    {
      "cell_type": "code",
      "metadata": {
        "id": "xAf6q6l6f2Ka"
      },
      "source": [
        "#Code Block 13 - Compute LogP or solubility as mentioned in the input form\n",
        "def getLogp(x):\n",
        "  smiles = ''.join(x)\n",
        "  if Chem.MolFromSmiles(smiles) is not None and len(smiles) is not 0:\n",
        "    return Descriptors.MolLogP(Chem.MolFromSmiles(smiles))"
      ],
      "execution_count": 43,
      "outputs": []
    },
    {
      "cell_type": "code",
      "metadata": {
        "id": "rxwiOu5uf4HV"
      },
      "source": [
        "#Code block 14 - naming module\n",
        "#To minimize the time taken by this code block, increase the value of calls. \n",
        "#For PubChem API, the value is ideally advised to be 5, but higher ones like 50 have been found to work without issues so far, \n",
        "# as 5 is a soft limit.\n",
        "from urllib.request import urlretrieve\n",
        "from ratelimit import limits, sleep_and_retry\n",
        "\n",
        "import requests\n",
        "\n",
        "@sleep_and_retry\n",
        "@limits(calls=50, period=1)\n",
        "def getName(x):\n",
        "  smiles = ''.join(x)\n",
        "  if len(smiles) is not 0:\n",
        "    try:\n",
        "      urlretrieve('https://pubchem.ncbi.nlm.nih.gov/rest/pug/compound/smiles/'+smiles+'/property/IUPACName/TXT', 'temp.txt')\n",
        "      n = open('/content/temp.txt', 'r')\n",
        "      name = n.readlines()\n",
        "      return name[0]\n",
        "    except:\n",
        "      return 'Unknown'"
      ],
      "execution_count": 44,
      "outputs": []
    },
    {
      "cell_type": "markdown",
      "metadata": {
        "id": "mtqw2XIN1kjy"
      },
      "source": [
        "# Section 7 - Filtration based on Properties\n",
        "Code block 15 is responsible for procuring the values of those properties based on which filtration needs to be done, for all the compounds currently under consideration.\n",
        "\n",
        "Code block 16 is responsible for input validation, resets if necessary, querying and finalization."
      ]
    },
    {
      "cell_type": "code",
      "metadata": {
        "id": "OZ4DFY4bf_6Q"
      },
      "source": [
        "#Code block 15 - Calling functions to determine only those properties based on which the filtration needs to happen.\n",
        "import sys\n",
        "\n",
        "df['QED'] = df['SMILES'].apply(addQED)\n",
        "df['Molecular weight'] = df['SMILES'].apply(addMolecularWeight)\n",
        "\n",
        "df['Heavy atoms'] = df['SMILES'].apply(atoms)\n",
        "\n",
        "df['Log P'] = df['SMILES'].apply(getLogp)\n",
        "\n",
        "#df['SAS'] = df['SMILES'].apply(getSAS)"
      ],
      "execution_count": 45,
      "outputs": []
    },
    {
      "cell_type": "code",
      "metadata": {
        "id": "a6AqF2MJjomF"
      },
      "source": [
        "#Code block 16 - input validation, resets if necessary, querying and finalization\n",
        "import sys\n",
        "\n",
        "if Min_Molecular_Weight < 0:\n",
        "  Min_Molecular_Weight = 0\n",
        "elif Max_Molecular_Weight > sys.maxsize:\n",
        "  Max_Molecular_Weight = sys.maxsize\n",
        "\n",
        "if Min_Heavy_Atoms < 0:\n",
        "  Min_Heavy_Atoms = 0\n",
        "elif Max_Heavy_Atoms > sys.maxsize:\n",
        "  Max_Heavy_Atoms = sys.maxsize\n",
        "\n",
        "df = df.query('QED>=@Min_QED & `Molecular weight`>=@Min_Molecular_Weight & `Molecular weight`<=@Max_Molecular_Weight & `Heavy atoms`>=@Min_Heavy_Atoms & `Heavy atoms`<=@Max_Heavy_Atoms')\n",
        "if Solubility == 'Lipophilic':\n",
        "  df = df.query('`Log P`>=0')\n",
        "elif Solubility == 'Hydrophilic':\n",
        "  df = df.query('`Log P`<=0')\n",
        "else:\n",
        "  df = df\n",
        "\n",
        "if len(df) <= 0:\n",
        "  sys.exit('No candidates available within the valid range.')"
      ],
      "execution_count": 46,
      "outputs": []
    },
    {
      "cell_type": "markdown",
      "metadata": {
        "id": "IZOSpLag2Otx"
      },
      "source": [
        "# Section 8 - Determination of the other properties\n",
        "Code blocks 17-24 are responsible for calling the functions previously defined, in order to determine the rest of the computational and predictive properties.\n"
      ]
    },
    {
      "cell_type": "code",
      "metadata": {
        "id": "Ng25jNtmRE3x"
      },
      "source": [
        "#Code block 17 - Functions calls to the remaining computational property functions\n",
        "df['Formal charge'] = df['SMILES'].apply(getCharge)\n",
        "df['Max partial charge'] = df['SMILES'].apply(maxPartCharge)\n",
        "df['Max Intra-Molecular Distance'] = df['SMILES'].apply(getSize)\n",
        "df['Valence electrons'] = df['SMILES'].apply(maxValenceElectrons)\n",
        "df['Rings'] = df['SMILES'].apply(rings)\n",
        "df['Rotatable bonds'] = df['SMILES'].apply(rotableBonds)\n",
        "df['TPSA'] = df['SMILES'].apply(tpsa)\n",
        "df['H-Donors'] = df['SMILES'].apply(hDonors)\n",
        "df['H-Acceptors'] = df['SMILES'].apply(hAccept)\n",
        "df['Number of Atoms'] = df['SMILES'].apply(getNumAtoms)\n",
        "df['Molar Refractivity'] = df['SMILES'].apply(getMR)\n",
        "if len(Reference_Molecule) is not 0 and Chem.MolFromSmiles(''.join(Reference_Molecule)) is not None:\n",
        "  df['Similarity'] = df['SMILES'].apply(similarity)"
      ],
      "execution_count": 47,
      "outputs": []
    },
    {
      "cell_type": "code",
      "metadata": {
        "id": "Bcuzs9DxgCvj",
        "colab": {
          "base_uri": "https://localhost:8080/"
        },
        "outputId": "5a9d6a06-c1c0-4b49-c7f8-0f7c7b3986a8"
      },
      "source": [
        "#Code block 18 - Density\n",
        "#Mean absolute error (ME): 0.0737 on Test dataset with Linear regression\n",
        "density_er = 0.0737\n",
        "density_df = df[['Molecular weight', 'Heavy atoms', 'Rings', 'TPSA', 'H-Donors', 'H-Acceptors']]\n",
        "\n",
        "import pickle \n",
        "  \n",
        "dens = \"/content/drive/MyDrive/Necessary Uploads/Necessary Uploads/Density_Model.pkl\"  \n",
        "\n",
        "with open(dens, 'rb') as file:  \n",
        "    pickled_dens = pickle.load(file)\n",
        "\n",
        "dens_pred = pickled_dens.predict(density_df)\n",
        "dens_pred = [(y / 1000.0) for y in dens_pred]\n",
        "\n",
        "df['Density (g/cm3)'] = dens_pred"
      ],
      "execution_count": 48,
      "outputs": [
        {
          "output_type": "stream",
          "name": "stderr",
          "text": [
            "/usr/local/lib/python3.7/dist-packages/sklearn/base.py:338: UserWarning: Trying to unpickle estimator LinearRegression from version 0.22.2.post1 when using version 1.0.2. This might lead to breaking code or invalid results. Use at your own risk. For more info please refer to:\n",
            "https://scikit-learn.org/stable/modules/model_persistence.html#security-maintainability-limitations\n",
            "  UserWarning,\n",
            "/usr/local/lib/python3.7/dist-packages/sklearn/base.py:444: UserWarning: X has feature names, but LinearRegression was fitted without feature names\n",
            "  f\"X has feature names, but {self.__class__.__name__} was fitted without\"\n"
          ]
        }
      ]
    },
    {
      "cell_type": "code",
      "metadata": {
        "id": "NOPMrAmTgFM6"
      },
      "source": [
        "#Code block 19 - Prep for Graph Convolutional models\n",
        "import deepchem as dc\n",
        "\n",
        "pred_smiles = df['SMILES']\n",
        "\n",
        "from rdkit import Chem\n",
        "mols = [Chem.MolFromSmiles(t) for t in pred_smiles]\n",
        "featurizer = dc.feat.ConvMolFeaturizer()\n",
        "x_r = featurizer.featurize(mols)"
      ],
      "execution_count": 49,
      "outputs": []
    },
    {
      "cell_type": "code",
      "metadata": {
        "id": "4Q3Db8pHgJza",
        "outputId": "d4fac784-000a-4052-cfd5-8bab338c5572",
        "colab": {
          "base_uri": "https://localhost:8080/"
        }
      },
      "source": [
        "#Code block 20 -Dynamic viscosity\n",
        "#{'graphconvreg': {'mean-pearson_r2_score': 0.9998366136912226}, 'me': 0.6368528911132811, 'mse': 0.6633988550012482}\n",
        "\n",
        "visc_model = dc.models.GraphConvModel(n_tasks=1, mode='regression', model_dir = \"/content/drive/MyDrive/Necessary Uploads/Necessary Uploads/Viscosity model2\")\n",
        "visc = visc_model.predict_on_batch(x_r)\n",
        "\n",
        "df['Dynamic Viscosity (mPas)'] = visc"
      ],
      "execution_count": 50,
      "outputs": [
        {
          "output_type": "stream",
          "name": "stdout",
          "text": [
            "WARNING:tensorflow:5 out of the last 5 calls to <function KerasModel._compute_model at 0x7f7332d4d200> triggered tf.function retracing. Tracing is expensive and the excessive number of tracings could be due to (1) creating @tf.function repeatedly in a loop, (2) passing tensors with different shapes, (3) passing Python objects instead of tensors. For (1), please define your @tf.function outside of the loop. For (2), @tf.function has experimental_relax_shapes=True option that relaxes argument shapes that can avoid unnecessary retracing. For (3), please refer to https://www.tensorflow.org/guide/function#controlling_retracing and https://www.tensorflow.org/api_docs/python/tf/function for  more details.\n"
          ]
        }
      ]
    },
    {
      "cell_type": "code",
      "metadata": {
        "id": "onSJFHnwgMZP",
        "outputId": "336bb3b3-37a8-483c-8597-c32ba37af7e0",
        "colab": {
          "base_uri": "https://localhost:8080/"
        }
      },
      "source": [
        "#Code block 21 - Vapor pressure\n",
        "#{'graphconvreg': {'mean-pearson_r2_score': 0.9885580690954194}, 'me': 0.8775332915066647, 'mse': 1.622585033111383} @ 80 epochs\n",
        "\n",
        "vp_model = dc.models.GraphConvModel(n_tasks=1, mode='regression', model_dir = \"/content/drive/MyDrive/Necessary Uploads/Necessary Uploads/VP Model\")\n",
        "vp = vp_model.predict_on_batch(x_r)\n",
        "\n",
        "df['Log VP'] = vp"
      ],
      "execution_count": 51,
      "outputs": [
        {
          "output_type": "stream",
          "name": "stdout",
          "text": [
            "WARNING:tensorflow:6 out of the last 6 calls to <function KerasModel._compute_model at 0x7f71affd9200> triggered tf.function retracing. Tracing is expensive and the excessive number of tracings could be due to (1) creating @tf.function repeatedly in a loop, (2) passing tensors with different shapes, (3) passing Python objects instead of tensors. For (1), please define your @tf.function outside of the loop. For (2), @tf.function has experimental_relax_shapes=True option that relaxes argument shapes that can avoid unnecessary retracing. For (3), please refer to https://www.tensorflow.org/guide/function#controlling_retracing and https://www.tensorflow.org/api_docs/python/tf/function for  more details.\n"
          ]
        }
      ]
    },
    {
      "cell_type": "code",
      "metadata": {
        "id": "_maiwfxPgOhg"
      },
      "source": [
        "#Code block 22 - Dielectric constant\n",
        "#{'graphconvreg': {'mean-pearson_r2_score': 0.959950395166961}, 'me': 3.922881823396682, 'mse': 25.016039710994534} @ 450 epochs\n",
        "di_model = dc.models.GraphConvModel(n_tasks=1, mode='regression', model_dir = \"/content/drive/MyDrive/Necessary Uploads/Necessary Uploads/Dielectric Constant Model\")\n",
        "di = di_model.predict_on_batch(x_r)\n",
        "\n",
        "df['Dielectric Constant'] = di"
      ],
      "execution_count": 52,
      "outputs": []
    },
    {
      "cell_type": "code",
      "metadata": {
        "id": "9VVkWTpdgRLI"
      },
      "source": [
        "#Code block 23 - ClinTox Toxicity prediction with 90% accuracy @ 1200 epochs\n",
        "import numpy as np\n",
        "\n",
        "tox_model = dc.models.GraphConvModel(n_tasks=1, mode='regression', model_dir = \"/content/drive/MyDrive/Necessary Uploads/Necessary Uploads/Toxicity Model\")\n",
        "tox = tox_model.predict_on_batch(x_r)\n",
        "\n",
        "tox = np.abs(tox)\n",
        "tox = np.round(tox)\n",
        "\n",
        "for t in tox:\n",
        "  if t < 0:\n",
        "    t = 0\n",
        "  if t > 1:\n",
        "    t = 1\n",
        "\n",
        "df['Is Toxic'] = tox"
      ],
      "execution_count": 53,
      "outputs": []
    },
    {
      "cell_type": "code",
      "metadata": {
        "id": "KL5WOHeWgR0e"
      },
      "source": [
        "#Code block 24 - Determination of whether the compound is known or unknown, and its name, based on pubchem\n",
        "df['IUPAC Name'] = df['SMILES'].apply(getName)\n",
        "\n",
        "df['IUPAC Name'] = df['IUPAC Name'].apply(lambda x: 'Unknown' if len(str(x))<2 else x)\n",
        "\n",
        "df['Is Known'] = df['IUPAC Name'].apply(lambda x: 0 if x == 'Unknown' else 1)"
      ],
      "execution_count": 54,
      "outputs": []
    },
    {
      "cell_type": "markdown",
      "metadata": {
        "id": "soQEPWp_3jzW"
      },
      "source": [
        "# Section 9 - Final Output Processing\n",
        "While code block 25 is responsible for assigning appropriate identifiers to the candidates, code block 26 creates the final output file and adds it to the session storage and code block 27 illustrates the 2D structures of all the molecules present in the final output, with reference to the idenifiers present as 'S. No.' in the output file."
      ]
    },
    {
      "cell_type": "code",
      "metadata": {
        "id": "T0ga6jAmMEue"
      },
      "source": [
        "#Code block 25 - Assignment of Indentifiers\n",
        "df.insert(0, 'S No', range(1, 1 + len(df)))"
      ],
      "execution_count": 55,
      "outputs": []
    },
    {
      "cell_type": "code",
      "metadata": {
        "id": "44Ss8XqwgUfC"
      },
      "source": [
        "#Code block 26 - Creation of output csv\n",
        "df.to_csv(\"Res.csv\")"
      ],
      "execution_count": 56,
      "outputs": []
    },
    {
      "cell_type": "code",
      "metadata": {
        "colab": {
          "base_uri": "https://localhost:8080/",
          "height": 817
        },
        "id": "j93Uvzsrh6wQ",
        "outputId": "8603a615-a91e-41e4-fd12-4869960f23e8"
      },
      "source": [
        "#Code block 27 - Illustration of Chemical structures\n",
        "mols = [ Chem.MolFromSmiles(''.join(x)) for x in df['SMILES'] ]\n",
        "Chem.Draw.MolsToGridImage(mols, molsPerRow = 4, subImgSize=(200,200), legends=['S No = ' + str(x) for x in df['S No']] )"
      ],
      "execution_count": 57,
      "outputs": [
        {
          "output_type": "execute_result",
          "data": {
            "image/png": "[encoded data removed]",
            "text/plain": [
              "<PIL.PngImagePlugin.PngImageFile image mode=RGB size=800x800 at 0x7F71AED68350>"
            ]
          },
          "metadata": {},
          "execution_count": 57
        }
      ]
    }
  ]
}
